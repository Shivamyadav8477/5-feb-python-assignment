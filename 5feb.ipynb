{
 "cells": [
  {
   "cell_type": "code",
   "execution_count": null,
   "id": "d3962556-001d-492d-bd0b-3ef8baeb351f",
   "metadata": {},
   "outputs": [],
   "source": [
    "Q1. Explain Class and Object with respect to Object-Oriented Programming. Give a suitable example."
   ]
  },
  {
   "cell_type": "code",
   "execution_count": 2,
   "id": "f7524fc0-a272-434b-82fc-f778eea9a17b",
   "metadata": {},
   "outputs": [
    {
     "name": "stdout",
     "output_type": "stream",
     "text": [
      "Toyota\n",
      "Civic\n",
      "Toyota Corolla is now running.\n",
      "Honk! Honk!\n",
      "Toyota Corolla has stopped.\n"
     ]
    }
   ],
   "source": [
    "# Define a class called 'Car'\n",
    "class Car:\n",
    "    def __init__(self, make, model, year):\n",
    "        self.make = make\n",
    "        self.model = model\n",
    "        self.year = year\n",
    "        self.is_running = False\n",
    "\n",
    "    def start(self):\n",
    "        self.is_running = True\n",
    "        print(f\"{self.make} {self.model} is now running.\")\n",
    "\n",
    "    def stop(self):\n",
    "        self.is_running = False\n",
    "        print(f\"{self.make} {self.model} has stopped.\")\n",
    "\n",
    "    def honk(self):\n",
    "        print(\"Honk! Honk!\")\n",
    "\n",
    "# Creating objects of the 'Car' class\n",
    "car1 = Car(\"Toyota\", \"Corolla\", 2022)\n",
    "car2 = Car(\"Honda\", \"Civic\", 2023)\n",
    "\n",
    "# Accessing attributes of objects\n",
    "print(car1.make)   # Output: Toyota\n",
    "print(car2.model)  # Output: Civic\n",
    "\n",
    "# Calling methods of objects\n",
    "car1.start()   # Output: Toyota Corolla is now running.\n",
    "car2.honk()    # Output: Honk! Honk!\n",
    "\n",
    "# Modifying attributes\n",
    "car1.stop()    # Output: Toyota Corolla has stopped.\n"
   ]
  },
  {
   "cell_type": "code",
   "execution_count": null,
   "id": "00b1cdba-d81a-47e4-8734-1fa4292b39cf",
   "metadata": {},
   "outputs": [],
   "source": [
    "Q2. Name the four pillars of OOPs. "
   ]
  },
  {
   "cell_type": "code",
   "execution_count": null,
   "id": "73b63ae6-1572-42a7-9a2c-00273475e8ca",
   "metadata": {},
   "outputs": [],
   "source": [
    "1 - Encapsulation\n",
    "2 - abstraction\n",
    "3 - inheritance\n",
    "4 - Polymorphism"
   ]
  },
  {
   "cell_type": "code",
   "execution_count": null,
   "id": "3677b116-af0f-42ba-aced-ad9df7d625a7",
   "metadata": {},
   "outputs": [],
   "source": [
    "Q3. Explain why the __init__() function is used. Give a suitable example."
   ]
  },
  {
   "cell_type": "code",
   "execution_count": 4,
   "id": "ab0d9906-eeb8-42dc-ba68-2dc23d2c938f",
   "metadata": {},
   "outputs": [],
   "source": [
    "class Car:\n",
    "    def __init__(self, make, model, year):\n",
    "        self.make = make\n",
    "        self.model = model\n",
    "        self.year = year\n",
    "        self.is_running = False\n",
    "\n",
    "    def start(self):\n",
    "        self.is_running = True\n",
    "        print(f\"{self.make} {self.model} is now running.\")\n",
    "\n",
    "    def stop(self):\n",
    "        self.is_running = False\n",
    "        print(f\"{self.make} {self.model} has stopped.\")\n"
   ]
  },
  {
   "cell_type": "code",
   "execution_count": 5,
   "id": "8baf26a2-22fe-42bc-b15f-b7ad9ff91b30",
   "metadata": {},
   "outputs": [],
   "source": [
    "my_car = Car(\"Toyota\", \"Corolla\", 2022)\n"
   ]
  },
  {
   "cell_type": "code",
   "execution_count": null,
   "id": "2b95b341-396a-4c21-b692-12a671fd4f70",
   "metadata": {},
   "outputs": [],
   "source": [
    "Q4. Why self is used in OOPs?"
   ]
  },
  {
   "cell_type": "code",
   "execution_count": null,
   "id": "dba045c2-3817-4429-bfc1-c3d81c43147c",
   "metadata": {},
   "outputs": [],
   "source": [
    "1 - Accessing Instance Attributes\n",
    "2 - Modifying Instance Attributes\n",
    "3 - Calling Other Methods\n",
    "4 - Instance Scope\n",
    "\n",
    "Here's a simple example to illustrate the use of self in Python:"
   ]
  },
  {
   "cell_type": "code",
   "execution_count": 6,
   "id": "47cb7a5f-1798-4be3-948e-65b78fd831b6",
   "metadata": {},
   "outputs": [],
   "source": [
    "class gym:\n",
    "    def __init__(shiv, member, pro, body):\n",
    "        shiv.member=member\n",
    "        shiv.pro= pro\n",
    "        shiv.body=body\n",
    "    def return_details(shiv):\n",
    "        return shiv.member , shiv.pro , shiv.body"
   ]
  },
  {
   "cell_type": "code",
   "execution_count": 7,
   "id": "f4fd76c0-9152-40a8-8d92-5f0e31f032d8",
   "metadata": {},
   "outputs": [],
   "source": [
    "gold= gym(23,\"five\",233)"
   ]
  },
  {
   "cell_type": "code",
   "execution_count": 8,
   "id": "6462db67-d6a3-4bbf-a01b-39a4bb4fb510",
   "metadata": {},
   "outputs": [
    {
     "data": {
      "text/plain": [
       "23"
      ]
     },
     "execution_count": 8,
     "metadata": {},
     "output_type": "execute_result"
    }
   ],
   "source": [
    "gold.member"
   ]
  },
  {
   "cell_type": "code",
   "execution_count": null,
   "id": "faf99476-2abb-4ba0-9a01-29dc43734770",
   "metadata": {},
   "outputs": [],
   "source": [
    "Q5. What is inheritance? Give an example for each type of inheritance."
   ]
  },
  {
   "cell_type": "code",
   "execution_count": null,
   "id": "67d804b9-d66b-4404-bb89-c947252510b2",
   "metadata": {},
   "outputs": [],
   "source": [
    "Inheritance is a fundamental concept in Object-Oriented Programming (OOP) that allows a new class (called the subclass or derived class) to inherit properties and behaviors from an existing class (called the superclass or base class). It is a way to create a hierarchical relationship between classes, where a subclass is a specialized version of its superclass.\n",
    "\n",
    "There are different types of inheritance;\n",
    "1 - single inheritance \n",
    "example"
   ]
  },
  {
   "cell_type": "code",
   "execution_count": 17,
   "id": "3c8f79bd-9e38-46f7-a5e5-a622fc91c978",
   "metadata": {},
   "outputs": [],
   "source": [
    "class Animal:\n",
    "    def speak(self):\n",
    "        print(\"Animal speaks.\")\n",
    "\n",
    "class Dog(Animal):\n",
    "    def speak(self):  \n",
    "        print(\"Dog barks.\")\n"
   ]
  },
  {
   "cell_type": "code",
   "execution_count": 19,
   "id": "0a93343a-2d87-4381-862c-c8a85c828a88",
   "metadata": {},
   "outputs": [],
   "source": [
    "dog = Dog()"
   ]
  },
  {
   "cell_type": "code",
   "execution_count": 21,
   "id": "6dd2ef89-ab0e-4d5e-b293-a2cfd4068795",
   "metadata": {},
   "outputs": [
    {
     "name": "stdout",
     "output_type": "stream",
     "text": [
      "Dog barks.\n"
     ]
    }
   ],
   "source": [
    "dog.speak()"
   ]
  },
  {
   "cell_type": "code",
   "execution_count": null,
   "id": "f5072de9-4f49-44e0-9dae-dab1f3603c27",
   "metadata": {},
   "outputs": [],
   "source": [
    "2 - Multiple Inheritance:\n",
    "    example"
   ]
  },
  {
   "cell_type": "code",
   "execution_count": 9,
   "id": "adbdfb8c-c109-4185-922d-49e40ab88aaf",
   "metadata": {},
   "outputs": [],
   "source": [
    "class Mammal:\n",
    "    def eat(self):\n",
    "        print(\"Mammal eats.\")\n",
    "\n",
    "class Flying:\n",
    "    def fly(self):\n",
    "        print(\"Flying in the sky.\")\n",
    "\n",
    "class Bat(Mammal, Flying):\n",
    "    pass\n"
   ]
  },
  {
   "cell_type": "code",
   "execution_count": 10,
   "id": "1464b58f-efac-4250-908a-7e2677bbb3f3",
   "metadata": {},
   "outputs": [],
   "source": [
    "bat = Bat()"
   ]
  },
  {
   "cell_type": "code",
   "execution_count": 11,
   "id": "decf64f9-777e-427d-902d-3ae6399f4a45",
   "metadata": {},
   "outputs": [
    {
     "name": "stdout",
     "output_type": "stream",
     "text": [
      "Mammal eats.\n"
     ]
    }
   ],
   "source": [
    "bat.eat()"
   ]
  },
  {
   "cell_type": "code",
   "execution_count": 12,
   "id": "c0798e26-204d-42e3-8903-a19a36d7e612",
   "metadata": {},
   "outputs": [
    {
     "name": "stdout",
     "output_type": "stream",
     "text": [
      "Flying in the sky.\n"
     ]
    }
   ],
   "source": [
    "bat.fly()"
   ]
  }
 ],
 "metadata": {
  "kernelspec": {
   "display_name": "Python 3 (ipykernel)",
   "language": "python",
   "name": "python3"
  },
  "language_info": {
   "codemirror_mode": {
    "name": "ipython",
    "version": 3
   },
   "file_extension": ".py",
   "mimetype": "text/x-python",
   "name": "python",
   "nbconvert_exporter": "python",
   "pygments_lexer": "ipython3",
   "version": "3.10.6"
  }
 },
 "nbformat": 4,
 "nbformat_minor": 5
}
